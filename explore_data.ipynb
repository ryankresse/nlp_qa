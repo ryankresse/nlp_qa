{
 "cells": [
  {
   "cell_type": "code",
   "execution_count": 1,
   "metadata": {
    "collapsed": true
   },
   "outputs": [],
   "source": [
    "import matplotlib.pyplot as plt\n",
    "import numpy as np\n",
    "import pandas as pd\n",
    "import os\n",
    "import code.data_utils as data_utils\n",
    "from IPython.core.debugger import Pdb\n",
    "%matplotlib inline"
   ]
  },
  {
   "cell_type": "code",
   "execution_count": 2,
   "metadata": {
    "collapsed": true
   },
   "outputs": [],
   "source": [
    "prob = np.load('beg_prob.npy')"
   ]
  },
  {
   "cell_type": "code",
   "execution_count": 4,
   "metadata": {
    "collapsed": true
   },
   "outputs": [],
   "source": [
    "end_p = np.load('end_prob.npy')"
   ]
  },
  {
   "cell_type": "code",
   "execution_count": 5,
   "metadata": {},
   "outputs": [
    {
     "data": {
      "text/plain": [
       "(30, 300)"
      ]
     },
     "execution_count": 5,
     "metadata": {},
     "output_type": "execute_result"
    }
   ],
   "source": [
    "prob.shape"
   ]
  },
  {
   "cell_type": "code",
   "execution_count": 17,
   "metadata": {
    "collapsed": true
   },
   "outputs": [],
   "source": [
    "beg_df= pd.DataFrame(prob)"
   ]
  },
  {
   "cell_type": "code",
   "execution_count": 20,
   "metadata": {
    "collapsed": true
   },
   "outputs": [],
   "source": [
    "end_df= pd.DataFrame(end_p)"
   ]
  },
  {
   "cell_type": "code",
   "execution_count": 18,
   "metadata": {},
   "outputs": [
    {
     "data": {
      "text/plain": [
       "<matplotlib.axes._subplots.AxesSubplot at 0x7fed89be8c50>"
      ]
     },
     "execution_count": 18,
     "metadata": {},
     "output_type": "execute_result"
    },
    {
     "data": {
      "image/png": "[encoded data removed]",
      "text/plain": [
       "<matplotlib.figure.Figure at 0x7fed899c3850>"
      ]
     },
     "metadata": {},
     "output_type": "display_data"
    }
   ],
   "source": [
    "beg_df.max(axis=1).hist()"
   ]
  },
  {
   "cell_type": "code",
   "execution_count": 21,
   "metadata": {},
   "outputs": [
    {
     "data": {
      "text/plain": [
       "<matplotlib.axes._subplots.AxesSubplot at 0x7fed8994f550>"
      ]
     },
     "execution_count": 21,
     "metadata": {},
     "output_type": "execute_result"
    },
    {
     "data": {
      "image/png": "[encoded data removed]",
      "text/plain": [
       "<matplotlib.figure.Figure at 0x7fed898e0510>"
      ]
     },
     "metadata": {},
     "output_type": "display_data"
    }
   ],
   "source": [
    "end_df.max(axis=1).hist()"
   ]
  },
  {
   "cell_type": "code",
   "execution_count": 22,
   "metadata": {
    "collapsed": true
   },
   "outputs": [],
   "source": [
    "logs = pd.read_table('train_logs.txt', sep=',', names=['f1', 'loss', 'grad_norm', 'ans_span', 'max_beg_prob', 'max_end_prob', 'val_loss', 'val_f1'])"
   ]
  },
  {
   "cell_type": "code",
   "execution_count": 23,
   "metadata": {},
   "outputs": [
    {
     "data": {
      "text/plain": [
       "8.7422820118e+17"
      ]
     },
     "execution_count": 23,
     "metadata": {},
     "output_type": "execute_result"
    }
   ],
   "source": [
    "logs.loss.max()"
   ]
  },
  {
   "cell_type": "code",
   "execution_count": 24,
   "metadata": {},
   "outputs": [
    {
     "data": {
      "text/html": [
       "<div>\n",
       "<style>\n",
       "    .dataframe thead tr:only-child th {\n",
       "        text-align: right;\n",
       "    }\n",
       "\n",
       "    .dataframe thead th {\n",
       "        text-align: left;\n",
       "    }\n",
       "\n",
       "    .dataframe tbody tr th {\n",
       "        vertical-align: top;\n",
       "    }\n",
       "</style>\n",
       "<table border=\"1\" class=\"dataframe\">\n",
       "  <thead>\n",
       "    <tr style=\"text-align: right;\">\n",
       "      <th></th>\n",
       "      <th>f1</th>\n",
       "      <th>loss</th>\n",
       "      <th>grad_norm</th>\n",
       "      <th>ans_span</th>\n",
       "      <th>max_beg_prob</th>\n",
       "      <th>max_end_prob</th>\n",
       "      <th>val_loss</th>\n",
       "      <th>val_f1</th>\n",
       "    </tr>\n",
       "  </thead>\n",
       "  <tbody>\n",
       "    <tr>\n",
       "      <th>0</th>\n",
       "      <td>1.231291</td>\n",
       "      <td>1.106055e+01</td>\n",
       "      <td>2.909757e-01</td>\n",
       "      <td>0.0</td>\n",
       "      <td>0.003947</td>\n",
       "      <td>0.003375</td>\n",
       "      <td>1.053138e+01</td>\n",
       "      <td>1.407204</td>\n",
       "    </tr>\n",
       "    <tr>\n",
       "      <th>1</th>\n",
       "      <td>1.842376</td>\n",
       "      <td>1.105114e+01</td>\n",
       "      <td>4.703549e-01</td>\n",
       "      <td>0.0</td>\n",
       "      <td>0.004374</td>\n",
       "      <td>0.003457</td>\n",
       "      <td>1.053608e+01</td>\n",
       "      <td>1.870574</td>\n",
       "    </tr>\n",
       "    <tr>\n",
       "      <th>2</th>\n",
       "      <td>1.263890</td>\n",
       "      <td>1.103663e+01</td>\n",
       "      <td>8.134649e-01</td>\n",
       "      <td>0.0</td>\n",
       "      <td>0.005417</td>\n",
       "      <td>0.003639</td>\n",
       "      <td>1.137718e+02</td>\n",
       "      <td>2.008923</td>\n",
       "    </tr>\n",
       "    <tr>\n",
       "      <th>3</th>\n",
       "      <td>1.716046</td>\n",
       "      <td>5.562095e+03</td>\n",
       "      <td>4.231588e+19</td>\n",
       "      <td>0.0</td>\n",
       "      <td>0.072545</td>\n",
       "      <td>0.070172</td>\n",
       "      <td>1.298279e+04</td>\n",
       "      <td>1.529883</td>\n",
       "    </tr>\n",
       "    <tr>\n",
       "      <th>4</th>\n",
       "      <td>1.900522</td>\n",
       "      <td>1.155279e+06</td>\n",
       "      <td>2.570666e+52</td>\n",
       "      <td>0.0</td>\n",
       "      <td>0.243663</td>\n",
       "      <td>0.238970</td>\n",
       "      <td>2.507193e+09</td>\n",
       "      <td>1.812169</td>\n",
       "    </tr>\n",
       "  </tbody>\n",
       "</table>\n",
       "</div>"
      ],
      "text/plain": [
       "         f1          loss     grad_norm  ans_span  max_beg_prob  max_end_prob  \\\n",
       "0  1.231291  1.106055e+01  2.909757e-01       0.0      0.003947      0.003375   \n",
       "1  1.842376  1.105114e+01  4.703549e-01       0.0      0.004374      0.003457   \n",
       "2  1.263890  1.103663e+01  8.134649e-01       0.0      0.005417      0.003639   \n",
       "3  1.716046  5.562095e+03  4.231588e+19       0.0      0.072545      0.070172   \n",
       "4  1.900522  1.155279e+06  2.570666e+52       0.0      0.243663      0.238970   \n",
       "\n",
       "       val_loss    val_f1  \n",
       "0  1.053138e+01  1.407204  \n",
       "1  1.053608e+01  1.870574  \n",
       "2  1.137718e+02  2.008923  \n",
       "3  1.298279e+04  1.529883  \n",
       "4  2.507193e+09  1.812169  "
      ]
     },
     "execution_count": 24,
     "metadata": {},
     "output_type": "execute_result"
    }
   ],
   "source": [
    "logs.head()"
   ]
  },
  {
   "cell_type": "code",
   "execution_count": 39,
   "metadata": {},
   "outputs": [
    {
     "data": {
      "text/plain": [
       "(0, 10000000000)"
      ]
     },
     "execution_count": 39,
     "metadata": {},
     "output_type": "execute_result"
    },
    {
     "data": {
      "image/png": "[encoded data removed]",
      "text/plain": [
       "<matplotlib.figure.Figure at 0x7fed8907c710>"
      ]
     },
     "metadata": {},
     "output_type": "display_data"
    }
   ],
   "source": [
    "ax = plt.subplot()\n",
    "logs.loss.plot(ax=ax)\n",
    "ax.set_ylim([0,10000000000])"
   ]
  },
  {
   "cell_type": "code",
   "execution_count": 26,
   "metadata": {},
   "outputs": [
    {
     "data": {
      "text/plain": [
       "<matplotlib.axes._subplots.AxesSubplot at 0x7fed897186d0>"
      ]
     },
     "execution_count": 26,
     "metadata": {},
     "output_type": "execute_result"
    },
    {
     "data": {
      "image/png": "[encoded data removed]",
      "text/plain": [
       "<matplotlib.figure.Figure at 0x7fed896c0dd0>"
      ]
     },
     "metadata": {},
     "output_type": "display_data"
    }
   ],
   "source": [
    "logs.max_beg_prob.plot()"
   ]
  },
  {
   "cell_type": "code",
   "execution_count": 27,
   "metadata": {},
   "outputs": [
    {
     "data": {
      "text/plain": [
       "<matplotlib.axes._subplots.AxesSubplot at 0x7fed896a8310>"
      ]
     },
     "execution_count": 27,
     "metadata": {},
     "output_type": "execute_result"
    },
    {
     "data": {
      "image/png": "[encoded data removed]",
      "text/plain": [
       "<matplotlib.figure.Figure at 0x7fed89abff10>"
      ]
     },
     "metadata": {},
     "output_type": "display_data"
    }
   ],
   "source": [
    "logs.max_end_prob.plot()"
   ]
  },
  {
   "cell_type": "code",
   "execution_count": 28,
   "metadata": {},
   "outputs": [
    {
     "data": {
      "text/plain": [
       "<matplotlib.axes._subplots.AxesSubplot at 0x7fed895e2690>"
      ]
     },
     "execution_count": 28,
     "metadata": {},
     "output_type": "execute_result"
    },
    {
     "data": {
      "image/png": "[encoded data removed]",
      "text/plain": [
       "<matplotlib.figure.Figure at 0x7fed8958bf50>"
      ]
     },
     "metadata": {},
     "output_type": "display_data"
    }
   ],
   "source": [
    "logs.f1.plot()"
   ]
  },
  {
   "cell_type": "markdown",
   "metadata": {},
   "source": [
    "You would like to not have that burn in period when the model is putting all of its mass on one word. How would you do that? What can you do to figure it out? You could check out a new branch and step into your model at epoch 10?"
   ]
  },
  {
   "cell_type": "code",
   "execution_count": null,
   "metadata": {
    "collapsed": true
   },
   "outputs": [],
   "source": []
  },
  {
   "cell_type": "code",
   "execution_count": 3,
   "metadata": {
    "collapsed": true
   },
   "outputs": [],
   "source": [
    "data_dir = os.path.join(os.getcwd(), 'data', 'squad')"
   ]
  },
  {
   "cell_type": "code",
   "execution_count": 4,
   "metadata": {},
   "outputs": [
    {
     "data": {
      "text/plain": [
       "'/home/ryanryanadmin/Documents/ds/nlp/assignment4/data/squad'"
      ]
     },
     "execution_count": 4,
     "metadata": {},
     "output_type": "execute_result"
    }
   ],
   "source": [
    "data_dir"
   ]
  },
  {
   "cell_type": "code",
   "execution_count": 24,
   "metadata": {
    "collapsed": true
   },
   "outputs": [],
   "source": [
    "def get_lengths(file_name):\n",
    "    lengths = []\n",
    "    with open(os.path.join(data_dir, file_name), 'r') as f:\n",
    "        for l in f:\n",
    "            l_arr = l.split()\n",
    "            lengths.append(len(l_arr))\n",
    "    return lengths"
   ]
  },
  {
   "cell_type": "code",
   "execution_count": 25,
   "metadata": {
    "collapsed": true
   },
   "outputs": [],
   "source": [
    "context_len = get_lengths('train.ids.context')\n",
    "quest_len = get_lengths('train.ids.question')"
   ]
  },
  {
   "cell_type": "code",
   "execution_count": 28,
   "metadata": {
    "collapsed": true
   },
   "outputs": [],
   "source": [
    "sorted_quest = sorted(quest_len)"
   ]
  },
  {
   "cell_type": "code",
   "execution_count": 43,
   "metadata": {},
   "outputs": [
    {
     "data": {
      "text/plain": [
       "36"
      ]
     },
     "execution_count": 43,
     "metadata": {},
     "output_type": "execute_result"
    }
   ],
   "source": [
    "sorted_quest[-10]"
   ]
  },
  {
   "cell_type": "code",
   "execution_count": 6,
   "metadata": {},
   "outputs": [
    {
     "data": {
      "image/png": "[encoded data removed]",
      "text/plain": [
       "<matplotlib.figure.Figure at 0x7f2f97a78150>"
      ]
     },
     "metadata": {},
     "output_type": "display_data"
    }
   ],
   "source": [
    "_ = plt.hist(context_len, bins=20)"
   ]
  },
  {
   "cell_type": "code",
   "execution_count": 7,
   "metadata": {},
   "outputs": [
    {
     "data": {
      "text/plain": [
       "244.0"
      ]
     },
     "execution_count": 7,
     "metadata": {},
     "output_type": "execute_result"
    }
   ],
   "source": [
    "np.percentile(np.array(context_len), 95)"
   ]
  },
  {
   "cell_type": "code",
   "execution_count": 8,
   "metadata": {},
   "outputs": [
    {
     "data": {
      "image/png": "[encoded data removed]",
      "text/plain": [
       "<matplotlib.figure.Figure at 0x7f2f945ea0d0>"
      ]
     },
     "metadata": {},
     "output_type": "display_data"
    }
   ],
   "source": [
    "_ = plt.hist(quest_len, bins=20)"
   ]
  },
  {
   "cell_type": "code",
   "execution_count": 9,
   "metadata": {},
   "outputs": [
    {
     "data": {
      "text/plain": [
       "18.0"
      ]
     },
     "execution_count": 9,
     "metadata": {},
     "output_type": "execute_result"
    }
   ],
   "source": [
    "np.percentile(np.array(quest_len), 95)"
   ]
  },
  {
   "cell_type": "code",
   "execution_count": 10,
   "metadata": {
    "collapsed": true
   },
   "outputs": [],
   "source": [
    "def get_answer_info(file_name):\n",
    "    info = []\n",
    "    with open(os.path.join(data_dir, file_name), 'r') as f:\n",
    "        for l in f:\n",
    "            l_arr = l.split()\n",
    "            start, end = int(l_arr[0]), int(l_arr[1])\n",
    "            length = end - start\n",
    "            info.append([start, end, length])\n",
    "    return np.array(info)"
   ]
  },
  {
   "cell_type": "code",
   "execution_count": 11,
   "metadata": {
    "collapsed": true
   },
   "outputs": [],
   "source": [
    "ans_info = get_answer_info('train.span')"
   ]
  },
  {
   "cell_type": "code",
   "execution_count": 14,
   "metadata": {},
   "outputs": [
    {
     "data": {
      "image/png": "[encoded data removed]",
      "text/plain": [
       "<matplotlib.figure.Figure at 0x7f2f94579250>"
      ]
     },
     "metadata": {},
     "output_type": "display_data"
    }
   ],
   "source": [
    "_ = plt.hist(ans_info[:, 2], bins=20)"
   ]
  },
  {
   "cell_type": "code",
   "execution_count": 43,
   "metadata": {},
   "outputs": [
    {
     "data": {
      "text/plain": [
       "10.0"
      ]
     },
     "execution_count": 43,
     "metadata": {},
     "output_type": "execute_result"
    }
   ],
   "source": [
    "np.percentile(ans_info[:, 2], 95)"
   ]
  },
  {
   "cell_type": "code",
   "execution_count": 19,
   "metadata": {
    "collapsed": true
   },
   "outputs": [],
   "source": [
    "cols = ['con_len', 'ans_start', 'ans_end', 'ans_len']\n",
    "info_df = pd.DataFrame(np.hstack((np.array(context_len)[:, np.newaxis], ans_info)), columns=cols)"
   ]
  },
  {
   "cell_type": "code",
   "execution_count": 21,
   "metadata": {},
   "outputs": [
    {
     "data": {
      "text/html": [
       "<div>\n",
       "<style>\n",
       "    .dataframe thead tr:only-child th {\n",
       "        text-align: right;\n",
       "    }\n",
       "\n",
       "    .dataframe thead th {\n",
       "        text-align: left;\n",
       "    }\n",
       "\n",
       "    .dataframe tbody tr th {\n",
       "        vertical-align: top;\n",
       "    }\n",
       "</style>\n",
       "<table border=\"1\" class=\"dataframe\">\n",
       "  <thead>\n",
       "    <tr style=\"text-align: right;\">\n",
       "      <th></th>\n",
       "      <th>con_len</th>\n",
       "      <th>ans_start</th>\n",
       "      <th>ans_end</th>\n",
       "      <th>ans_len</th>\n",
       "    </tr>\n",
       "  </thead>\n",
       "  <tbody>\n",
       "    <tr>\n",
       "      <th>0</th>\n",
       "      <td>86</td>\n",
       "      <td>7</td>\n",
       "      <td>7</td>\n",
       "      <td>0</td>\n",
       "    </tr>\n",
       "    <tr>\n",
       "      <th>1</th>\n",
       "      <td>144</td>\n",
       "      <td>136</td>\n",
       "      <td>137</td>\n",
       "      <td>1</td>\n",
       "    </tr>\n",
       "    <tr>\n",
       "      <th>2</th>\n",
       "      <td>149</td>\n",
       "      <td>117</td>\n",
       "      <td>118</td>\n",
       "      <td>1</td>\n",
       "    </tr>\n",
       "    <tr>\n",
       "      <th>3</th>\n",
       "      <td>109</td>\n",
       "      <td>23</td>\n",
       "      <td>25</td>\n",
       "      <td>2</td>\n",
       "    </tr>\n",
       "    <tr>\n",
       "      <th>4</th>\n",
       "      <td>94</td>\n",
       "      <td>28</td>\n",
       "      <td>30</td>\n",
       "      <td>2</td>\n",
       "    </tr>\n",
       "  </tbody>\n",
       "</table>\n",
       "</div>"
      ],
      "text/plain": [
       "   con_len  ans_start  ans_end  ans_len\n",
       "0       86          7        7        0\n",
       "1      144        136      137        1\n",
       "2      149        117      118        1\n",
       "3      109         23       25        2\n",
       "4       94         28       30        2"
      ]
     },
     "execution_count": 21,
     "metadata": {},
     "output_type": "execute_result"
    }
   ],
   "source": [
    "info_df.head()"
   ]
  },
  {
   "cell_type": "code",
   "execution_count": 26,
   "metadata": {},
   "outputs": [
    {
     "data": {
      "text/plain": [
       "81403"
      ]
     },
     "execution_count": 26,
     "metadata": {},
     "output_type": "execute_result"
    }
   ],
   "source": [
    "len(info_df)"
   ]
  },
  {
   "cell_type": "code",
   "execution_count": 38,
   "metadata": {},
   "outputs": [
    {
     "data": {
      "text/plain": [
       "0.014680048646855766"
      ]
     },
     "execution_count": 38,
     "metadata": {},
     "output_type": "execute_result"
    }
   ],
   "source": [
    "1.0 *(info_df.ans_end > 200).sum() / len(info_df) * 1.0"
   ]
  },
  {
   "cell_type": "markdown",
   "metadata": {},
   "source": [
    "The longer the context, the longer it will take your model to train.\n",
    "\n",
    "The handout mentions controlling the length of your output. What does that mean? Does that mean figuring out how long the answers tend to be, and building your model so it ouputs answers of reasonable lengths? If so, an max answer length of 20-25 would cover that vast majority of training examples."
   ]
  },
  {
   "cell_type": "code",
   "execution_count": 10,
   "metadata": {
    "collapsed": true
   },
   "outputs": [],
   "source": [
    "def gather_lines(file_name, idx=[]):\n",
    "    gathered = []\n",
    "    with open(os.path.join(data_dir, file_name), 'r') as f:\n",
    "        for i, l in enumerate(f):\n",
    "            if i in idx:\n",
    "                gathered.append(l)\n",
    "    return np.array(gathered)"
   ]
  },
  {
   "cell_type": "code",
   "execution_count": 53,
   "metadata": {
    "collapsed": true
   },
   "outputs": [],
   "source": [
    "idx = np.random.randint(0, len(context_len), 20)\n",
    "quests = gather_lines(os.path.join(data_dir, 'train.question'), idx)\n",
    "context = gather_lines(os.path.join(data_dir, 'train.context'), idx)\n",
    "answer = gather_lines(os.path.join(data_dir, 'train.answer'), idx)\n"
   ]
  },
  {
   "cell_type": "code",
   "execution_count": 68,
   "metadata": {
    "collapsed": true
   },
   "outputs": [],
   "source": [
    "info = np.hstack((quests[:, np.newaxis], context[:, np.newaxis], answer[:, np.newaxis]))"
   ]
  },
  {
   "cell_type": "code",
   "execution_count": 67,
   "metadata": {},
   "outputs": [
    {
     "data": {
      "text/plain": [
       "(20,)"
      ]
     },
     "execution_count": 67,
     "metadata": {},
     "output_type": "execute_result"
    }
   ],
   "source": [
    "context.shape"
   ]
  },
  {
   "cell_type": "code",
   "execution_count": 69,
   "metadata": {
    "collapsed": true
   },
   "outputs": [],
   "source": [
    "def info_gen(info):\n",
    "    for i in np.arange(info.shape[0]):\n",
    "        yield(info[i, :])"
   ]
  },
  {
   "cell_type": "code",
   "execution_count": 70,
   "metadata": {
    "collapsed": true
   },
   "outputs": [],
   "source": [
    "get_info = info_gen(info)"
   ]
  },
  {
   "cell_type": "code",
   "execution_count": 75,
   "metadata": {},
   "outputs": [
    {
     "data": {
      "text/plain": [
       "array(['In what year did the establishment of the Qutb dynasty occur ?\\n',\n",
       "       'Sultan Quli , a governor of Golkonda , revolted against the Bahmani Sultanate and established the Qutb Shahi dynasty in 1518 ; he rebuilt the mud-fort of Golconda and named the city \" Muhammad nagar \" . The fifth sultan , Muhammad Quli Qutb Shah , established Hyderabad on the banks of the Musi River in 1591 , to avoid the water shortages experienced at Golkonda . During his rule , he had the Charminar and Mecca Masjid built in the city . On 21 September 1687 , the Golkonda Sultanate came under the rule of the Mughal emperor Aurangzeb after a year-long siege of the Golkonda fort . The annexed area was renamed Deccan Suba ( Deccan province ) and the capital was moved from Golkonda to Aurangabad , about 550 km ( 342 mi ) northwest of Hyderabad .\\n',\n",
       "       '1518\\n'], \n",
       "      dtype='|S1563')"
      ]
     },
     "execution_count": 75,
     "metadata": {},
     "output_type": "execute_result"
    }
   ],
   "source": [
    "get_info.next()"
   ]
  },
  {
   "cell_type": "markdown",
   "metadata": {
    "collapsed": true
   },
   "source": [
    "# Look at npz"
   ]
  },
  {
   "cell_type": "code",
   "execution_count": 46,
   "metadata": {},
   "outputs": [
    {
     "name": "stdout",
     "output_type": "stream",
     "text": [
      "(115240, 100)\n"
     ]
    }
   ],
   "source": [
    "with np.load(os.path.join(data_dir, 'glove.trimmed.100.npz'), mmap_mode='r') as embed:\n",
    "    print(embed['glove'].shape)\n",
    "    "
   ]
  },
  {
   "cell_type": "code",
   "execution_count": 20,
   "metadata": {},
   "outputs": [
    {
     "name": "stdout",
     "output_type": "stream",
     "text": [
      "found  the\n",
      "['the', '-0.038194', '-0.24487', '0.72812', '-0.39961', '0.083172', '0.043953', '-0.39141', '0.3344', '-0.57545', '0.087459', '0.28787', '-0.06731', '0.30906', '-0.26384', '-0.13231', '-0.20757', '0.33395', '-0.33848', '-0.31743', '-0.48336', '0.1464', '-0.37304', '0.34577', '0.052041', '0.44946', '-0.46971', '0.02628', '-0.54155', '-0.15518', '-0.14107', '-0.039722', '0.28277', '0.14393', '0.23464', '-0.31021', '0.086173', '0.20397', '0.52624', '0.17164', '-0.082378', '-0.71787', '-0.41531', '0.20335', '-0.12763', '0.41367', '0.55187', '0.57908', '-0.33477', '-0.36559', '-0.54857', '-0.062892', '0.26584', '0.30205', '0.99775', '-0.80481', '-3.0243', '0.01254', '-0.36942', '2.2167', '0.72201', '-0.24978', '0.92136', '0.034514', '0.46745', '1.1079', '-0.19358', '-0.074575', '0.23353', '-0.052062', '-0.22044', '0.057162', '-0.15806', '-0.30798', '-0.41625', '0.37972', '0.15006', '-0.53212', '-0.2055', '-1.2526', '0.071624', '0.70565', '0.49744', '-0.42063', '0.26148', '-1.538', '-0.30223', '-0.073438', '-0.28312', '0.37104', '-0.25217', '0.016215', '-0.017099', '-0.38984', '0.87424', '-0.72569', '-0.51058', '-0.52028', '-0.1459', '0.8278', '0.27062']\n"
     ]
    }
   ],
   "source": [
    "embed_path = os.path.join(os.getcwd(), 'download','dwr', 'glove.6B.100d.txt')\n",
    "with open(embed_path, 'r') as f:\n",
    "    for line in f:\n",
    "        array = line.lstrip().rstrip().split(\" \")\n",
    "        #take the first element -- it must be the key and the rest must be the actual word embedding elements\n",
    "        word = array[0]\n",
    "        if word == 'the':\n",
    "            print('found ', word)\n",
    "            print(array)\n",
    "            break\n",
    "        \n",
    "        \n",
    "        "
   ]
  },
  {
   "cell_type": "code",
   "execution_count": 19,
   "metadata": {},
   "outputs": [
    {
     "data": {
      "text/plain": [
       "'/home/ryanryanadmin/Documents/ds/nlp/assignment4/data/squad/glove.trimmed.100.npz'"
      ]
     },
     "execution_count": 19,
     "metadata": {},
     "output_type": "execute_result"
    }
   ],
   "source": [
    "os.path.join(data_dir, 'glove.trimmed.100.npz')"
   ]
  },
  {
   "cell_type": "markdown",
   "metadata": {
    "collapsed": true
   },
   "source": [
    "# Check things"
   ]
  },
  {
   "cell_type": "code",
   "execution_count": 5,
   "metadata": {
    "collapsed": true
   },
   "outputs": [],
   "source": [
    "cont_length = 200\n",
    "quest_length = 35\n",
    "pad_token = 0\n",
    "prepend = 'samp.'"
   ]
  },
  {
   "cell_type": "code",
   "execution_count": 6,
   "metadata": {
    "collapsed": true
   },
   "outputs": [],
   "source": [
    "context_data = data_utils.read_clip_and_pad(os.path.join(data_dir, prepend+'train.ids.context'), cont_length, pad_token)\n",
    "question_data = data_utils.read_clip_and_pad(os.path.join(data_dir, prepend+'train.ids.question'), quest_length, pad_token)\n",
    "answer_data = np.array(data_utils.read_datafile(os.path.join(data_dir, prepend+'train.span')), dtype=np.int32)\n",
    "dense_answers = data_utils.make_dense_answers(answer_data, cont_length)\n",
    "dataset = [question_data, context_data, answer_data]"
   ]
  },
  {
   "cell_type": "code",
   "execution_count": 11,
   "metadata": {
    "collapsed": true
   },
   "outputs": [],
   "source": [
    "questions = gather_lines('train.question', np.arange(1000))"
   ]
  },
  {
   "cell_type": "code",
   "execution_count": 14,
   "metadata": {
    "collapsed": true
   },
   "outputs": [],
   "source": [
    "context = gather_lines('train.context', np.arange(1000))"
   ]
  },
  {
   "cell_type": "code",
   "execution_count": 60,
   "metadata": {
    "collapsed": true
   },
   "outputs": [],
   "source": [
    "def check_ans(dense_answers, questions, context):\n",
    "    for i in np.arange(len(dense_answers)):\n",
    "        idx = np.nonzero(dense_answers[i, :])[0]\n",
    "        conn_list = context[i].split(\" \")\n",
    "        print(idx)\n",
    "        ans = np.array(conn_list)[idx]\n",
    "        print(ans)\n",
    "        yield questions[i], ans, context[i]"
   ]
  },
  {
   "cell_type": "code",
   "execution_count": 71,
   "metadata": {
    "collapsed": true
   },
   "outputs": [],
   "source": [
    "check_gen = check_ans(dense_answers, questions, context)"
   ]
  },
  {
   "cell_type": "code",
   "execution_count": 86,
   "metadata": {},
   "outputs": [
    {
     "name": "stdout",
     "output_type": "stream",
     "text": [
      "[15 16]\n",
      "['William' 'Penn']\n"
     ]
    },
    {
     "data": {
      "text/plain": [
       "('Who founded the Pennsylvania colony ?\\n', array(['William', 'Penn'], \n",
       "       dtype='|S12'), 'In 1681 , in partial repayment of a debt , Charles II of England granted William Penn a charter for what would become the Pennsylvania colony . Despite the royal charter , Penn bought the land from the local Lenape to be on good terms with the Native Americans and ensure peace for his colony . Penn made a treaty of friendship with Lenape chief Tammany under an elm tree at Shackamaxon , in what is now the city \\'s Fishtown section . Penn named the city Philadelphia , which is Greek for brotherly love ( from philos , \" love \" or \" friendship \" , and adelphos , \" brother \" ) . As a Quaker , Penn had experienced religious persecution and wanted his colony to be a place where anyone could worship freely . This tolerance , far more than afforded by most other colonies , led to better relations with the local Native tribes and fostered Philadelphia \\'s rapid growth into America \\'s most important city . Penn planned a city on the Delaware River to serve as a port and place for government . Hoping that Philadelphia would become more like an English rural town instead of a city , Penn laid out roads on a grid plan to keep houses and businesses spread far apart , with areas for gardens and orchards . The city \\'s inhabitants did not follow Penn \\'s plans , as they crowded by the Delaware River , the port , and subdivided and resold their lots . Before Penn left Philadelphia for the last time , he issued the Charter of 1701 establishing it as a city . It became an important trading center , poor at first , but with tolerable living conditions by the 1750s . Benjamin Franklin , a leading citizen , helped improve city services and founded new ones , such as fire protection , a library , and one of the American colonies \\' first hospitals .\\n')"
      ]
     },
     "execution_count": 86,
     "metadata": {},
     "output_type": "execute_result"
    }
   ],
   "source": [
    "check_gen.next()\n"
   ]
  },
  {
   "cell_type": "code",
   "execution_count": 7,
   "metadata": {},
   "outputs": [
    {
     "data": {
      "text/plain": [
       "(999, 200)"
      ]
     },
     "execution_count": 7,
     "metadata": {},
     "output_type": "execute_result"
    }
   ],
   "source": [
    "dense_answers.shape"
   ]
  },
  {
   "cell_type": "code",
   "execution_count": null,
   "metadata": {
    "collapsed": true
   },
   "outputs": [],
   "source": []
  }
 ],
 "metadata": {
  "kernelspec": {
   "display_name": "Python 2",
   "language": "python",
   "name": "python2"
  },
  "language_info": {
   "codemirror_mode": {
    "name": "ipython",
    "version": 2
   },
   "file_extension": ".py",
   "mimetype": "text/x-python",
   "name": "python",
   "nbconvert_exporter": "python",
   "pygments_lexer": "ipython2",
   "version": "2.7.13"
  }
 },
 "nbformat": 4,
 "nbformat_minor": 2
}
